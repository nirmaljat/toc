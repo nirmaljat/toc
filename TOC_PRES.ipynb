{
  "nbformat": 4,
  "nbformat_minor": 0,
  "metadata": {
    "colab": {
      "provenance": []
    },
    "kernelspec": {
      "name": "python3",
      "display_name": "Python 3"
    },
    "language_info": {
      "name": "python"
    }
  },
  "cells": [
    {
      "cell_type": "code",
      "execution_count": 5,
      "metadata": {
        "colab": {
          "base_uri": "https://localhost:8080/"
        },
        "id": "099J-gQqkDCd",
        "outputId": "694e40cc-56a5-45bc-fbc8-6297a1282eb6"
      },
      "outputs": [
        {
          "output_type": "stream",
          "name": "stdout",
          "text": [
            "jhhh is email jjjkkkk@mail.com\n",
            "<re.Match object; span=(14, 30), match='jjjkkkk@mail.com'>\n"
          ]
        }
      ],
      "source": [
        "import re\n",
        "\n",
        "email_pattern =\"[a-zA-Z0-9]+@[a-zA-Z]+\\.(com|net|edu|in)\";\n",
        "\n",
        "temp=input()\n",
        "\n",
        "if(temp.find(\"email\" or \"EMAIL\" or \"Email\")):\n",
        "  email=re.search(email_pattern,temp)\n",
        "else:\n",
        "  email=re.search(email_pattern,temp)\n",
        "print(email.group())\n"
      ]
    },
    {
      "cell_type": "code",
      "source": [
        "import re\n",
        "po_pattern=\"([+]\\d{2})?\\d{10}\"\n",
        "\n",
        "temp=input()\n",
        "\n",
        "m=re.search(po_pattern,temp)\n",
        "print(m.group())"
      ],
      "metadata": {
        "colab": {
          "base_uri": "https://localhost:8080/"
        },
        "id": "sTqwT6HWyPQr",
        "outputId": "0c96a546-7d4d-48a7-aab4-e853a0fc62a7"
      },
      "execution_count": 32,
      "outputs": [
        {
          "output_type": "stream",
          "name": "stdout",
          "text": [
            "+91 9922434553\n",
            "9922434553\n"
          ]
        }
      ]
    },
    {
      "cell_type": "code",
      "source": [
        "import re\n",
        "aadhar_pattern=\"[2-9]{1}[0-9]{3}\\\\s[0-9]{4}\\\\s[0-9]{4}\"\n",
        "temp=input()\n",
        "\n",
        "m=re.search(aadhar_pattern,temp)\n",
        "print(m.group())"
      ],
      "metadata": {
        "colab": {
          "base_uri": "https://localhost:8080/"
        },
        "id": "l78THgeQzdgc",
        "outputId": "68062b4d-39f3-4575-9423-79a6be4db687"
      },
      "execution_count": 33,
      "outputs": [
        {
          "output_type": "stream",
          "name": "stdout",
          "text": [
            "my addhar is 2270 6958 5585\n",
            "2270 6958 5585\n"
          ]
        }
      ]
    },
    {
      "cell_type": "code",
      "source": [
        "import re\n",
        "date_pattern=\"(0[1-9]|[12][0-9]|3[01])[- /.](0[1-9]|1[012])[- /.]([0-9]{4})\"\n",
        "\n",
        "temp=input()\n",
        "\n",
        "m=re.search(date_pattern,temp)\n",
        "print(m.group())"
      ],
      "metadata": {
        "colab": {
          "base_uri": "https://localhost:8080/"
        },
        "id": "ioymUsp4P9J1",
        "outputId": "9a0be680-b887-4b02-9e27-bde051654b64"
      },
      "execution_count": 36,
      "outputs": [
        {
          "output_type": "stream",
          "name": "stdout",
          "text": [
            "my birth dtae is 08-11-2002\n",
            "08-11-2002\n"
          ]
        }
      ]
    },
    {
      "cell_type": "code",
      "source": [
        "import re\n",
        "name_pattern=\"\\s+[a-z]{1}\\s+([A-Z][a-z]+)\"\n",
        "temp=input()\n",
        "\n",
        "m=re.search(name_pattern,temp)\n",
        "\n",
        "print(m.group())\n",
        "\n"
      ],
      "metadata": {
        "colab": {
          "base_uri": "https://localhost:8080/",
          "height": 235
        },
        "id": "QollWQEJQw2e",
        "outputId": "f618c1dc-f647-431b-999f-31d1d046b479"
      },
      "execution_count": 45,
      "outputs": [
        {
          "name": "stdout",
          "output_type": "stream",
          "text": [
            "n jaat booysssss\n"
          ]
        },
        {
          "output_type": "error",
          "ename": "AttributeError",
          "evalue": "ignored",
          "traceback": [
            "\u001b[0;31m---------------------------------------------------------------------------\u001b[0m",
            "\u001b[0;31mAttributeError\u001b[0m                            Traceback (most recent call last)",
            "\u001b[0;32m<ipython-input-45-0bd99b892b24>\u001b[0m in \u001b[0;36m<module>\u001b[0;34m\u001b[0m\n\u001b[1;32m      5\u001b[0m \u001b[0mm\u001b[0m\u001b[0;34m=\u001b[0m\u001b[0mre\u001b[0m\u001b[0;34m.\u001b[0m\u001b[0msearch\u001b[0m\u001b[0;34m(\u001b[0m\u001b[0mname_pattern\u001b[0m\u001b[0;34m,\u001b[0m\u001b[0mtemp\u001b[0m\u001b[0;34m)\u001b[0m\u001b[0;34m\u001b[0m\u001b[0;34m\u001b[0m\u001b[0m\n\u001b[1;32m      6\u001b[0m \u001b[0;34m\u001b[0m\u001b[0m\n\u001b[0;32m----> 7\u001b[0;31m \u001b[0mprint\u001b[0m\u001b[0;34m(\u001b[0m\u001b[0mm\u001b[0m\u001b[0;34m.\u001b[0m\u001b[0mgroup\u001b[0m\u001b[0;34m(\u001b[0m\u001b[0;34m)\u001b[0m\u001b[0;34m)\u001b[0m\u001b[0;34m\u001b[0m\u001b[0;34m\u001b[0m\u001b[0m\n\u001b[0m\u001b[1;32m      8\u001b[0m \u001b[0;34m\u001b[0m\u001b[0m\n",
            "\u001b[0;31mAttributeError\u001b[0m: 'NoneType' object has no attribute 'group'"
          ]
        }
      ]
    }
  ]
}